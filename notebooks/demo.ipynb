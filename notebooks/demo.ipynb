{
 "cells": [
  {
   "cell_type": "markdown",
   "metadata": {},
   "source": [
    "# Sample notebook\n",
    "\n",
    "Use this notebook for local experiments. See `scripts/train.py` for Weights & Biases integration."
   ]
  },
  {
   "cell_type": "code",
   "execution_count": null,
   "metadata": {},
   "outputs": [],
   "source": [
    "%cd .."
   ]
  },
  {
   "cell_type": "code",
   "execution_count": null,
   "metadata": {},
   "outputs": [],
   "source": [
    "from munch import DefaultMunch\n",
    "import wandb\n",
    "\n",
    "import numpy as np\n",
    "import torch\n",
    "from torch.utils.data import DataLoader, random_split\n",
    "from torchvision.datasets import ImageFolder\n",
    "from torchvision.transforms import Compose, ToTensor, Resize\n",
    "from torchvision.datasets.utils import download_and_extract_archive\n",
    "import deepinv as dinv\n",
    "\n",
    "from utils import *"
   ]
  },
  {
   "cell_type": "code",
   "execution_count": null,
   "metadata": {},
   "outputs": [],
   "source": [
    "config = DefaultMunch(\n",
    "    epochs=1,\n",
    "    batch_size=1,\n",
    "    lr_init=1e-3,\n",
    "    seed=0,\n",
    ")\n",
    "\n",
    "torch.manual_seed(config.seed)\n",
    "np.random.seed(config.seed)\n",
    "device = dinv.utils.get_freer_gpu() if torch.cuda.is_available() else \"cpu\""
   ]
  },
  {
   "cell_type": "markdown",
   "metadata": {},
   "source": [
    "Define physics"
   ]
  },
  {
   "cell_type": "code",
   "execution_count": null,
   "metadata": {},
   "outputs": [],
   "source": [
    "physics = dinv.physics.Inpainting((3, 256, 256))"
   ]
  },
  {
   "cell_type": "markdown",
   "metadata": {},
   "source": [
    "Prepare dataloaders"
   ]
  },
  {
   "cell_type": "code",
   "execution_count": null,
   "metadata": {},
   "outputs": [],
   "source": [
    "# Download Urban100 dataset\n",
    "download_and_extract_archive(\n",
    "    \"https://huggingface.co/datasets/eugenesiow/Urban100/resolve/main/data/Urban100_HR.tar.gz?download=true\",\n",
    "    \"Urban100\",\n",
    "    filename=\"Urban100_HR.tar.gz\",\n",
    "    md5=\"65d9d84a34b72c6f7ca1e26a12df1e4c\",\n",
    ")\n",
    "\n",
    "train_dataset, test_dataset = random_split(\n",
    "    ImageFolder(\n",
    "        \"Urban100\", transform=Compose([ToTensor(), Resize(256)])\n",
    "    ),\n",
    "    (0.8, 0.2),\n",
    ")\n",
    "\n",
    "# Prepare dataset of images and measurements\n",
    "dataset_path = dinv.datasets.generate_dataset(\n",
    "    train_dataset=train_dataset,\n",
    "    test_dataset=test_dataset,\n",
    "    physics=physics,\n",
    "    device=device,\n",
    "    save_dir=\"Urban100\",\n",
    ")\n",
    "\n",
    "train_dataloader = DataLoader(\n",
    "    dinv.datasets.HDF5Dataset(dataset_path, train=True), shuffle=True, batch_size=config.batch_size,\n",
    ")\n",
    "test_dataloader = DataLoader(\n",
    "    dinv.datasets.HDF5Dataset(dataset_path, train=False), shuffle=False, batch_size=config.batch_size,\n",
    ")"
   ]
  },
  {
   "cell_type": "markdown",
   "metadata": {},
   "source": [
    "Define loss"
   ]
  },
  {
   "cell_type": "code",
   "execution_count": null,
   "metadata": {},
   "outputs": [],
   "source": [
    "losses = dinv.loss.SupLoss()"
   ]
  },
  {
   "cell_type": "markdown",
   "metadata": {},
   "source": [
    "Define model"
   ]
  },
  {
   "cell_type": "code",
   "execution_count": null,
   "metadata": {},
   "outputs": [],
   "source": [
    "model = dinv.models.UNet().to(device)"
   ]
  },
  {
   "cell_type": "markdown",
   "metadata": {},
   "source": [
    "Define trainer and train model"
   ]
  },
  {
   "cell_type": "code",
   "execution_count": null,
   "metadata": {},
   "outputs": [],
   "source": [
    "trainer = dinv.training.Trainer(\n",
    "    model = model,\n",
    "    physics = physics,\n",
    "    optimizer = torch.optim.Adam(model.parameters(), lr=config.lr_init),\n",
    "    train_dataloader = train_dataloader,\n",
    "    eval_dataloader = test_dataloader,\n",
    "    epochs = config.epochs,\n",
    "    losses = losses,\n",
    "    scheduler = None,\n",
    "    metrics = dinv.loss.PSNR(),\n",
    "    online_measurements = False,\n",
    "    ckp_interval = 1000,\n",
    "    device = device,\n",
    "    eval_interval = 1,\n",
    "    save_path = f\"models/{wandb.run.id}\",\n",
    "    plot_images = True,\n",
    "    wandb_vis = False,\n",
    ")\n",
    "\n",
    "trainer.train()"
   ]
  }
 ],
 "metadata": {
  "language_info": {
   "name": "python"
  }
 },
 "nbformat": 4,
 "nbformat_minor": 2
}
